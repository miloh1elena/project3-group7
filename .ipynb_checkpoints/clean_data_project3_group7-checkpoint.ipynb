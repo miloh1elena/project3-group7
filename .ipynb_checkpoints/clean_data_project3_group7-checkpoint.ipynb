{
 "cells": [
  {
   "cell_type": "code",
   "execution_count": 31,
   "id": "0090baf6",
   "metadata": {},
   "outputs": [],
   "source": [
    "import pandas as pd\n",
    "from datetime import datetime\n",
    "import sqlite3\n",
    "from pathlib import Path\n",
    "import numpy as np\n",
    "import sqlalchemy\n",
    "from sqlalchemy.ext.automap import automap_base\n",
    "from sqlalchemy.orm import Session\n",
    "from sqlalchemy import create_engine, func"
   ]
  },
  {
   "cell_type": "code",
   "execution_count": 32,
   "id": "08bd00a5",
   "metadata": {},
   "outputs": [],
   "source": [
    "# call CSV file.\n",
    "df = pd.read_csv(r'C:\\Users\\abc\\Desktop\\threads project\\project3-group7\\project_data.csv')"
   ]
  },
  {
   "cell_type": "code",
   "execution_count": 33,
   "id": "30886211",
   "metadata": {},
   "outputs": [
    {
     "data": {
      "text/html": [
       "<div>\n",
       "<style scoped>\n",
       "    .dataframe tbody tr th:only-of-type {\n",
       "        vertical-align: middle;\n",
       "    }\n",
       "\n",
       "    .dataframe tbody tr th {\n",
       "        vertical-align: top;\n",
       "    }\n",
       "\n",
       "    .dataframe thead th {\n",
       "        text-align: right;\n",
       "    }\n",
       "</style>\n",
       "<table border=\"1\" class=\"dataframe\">\n",
       "  <thead>\n",
       "    <tr style=\"text-align: right;\">\n",
       "      <th></th>\n",
       "      <th>source</th>\n",
       "      <th>review_description</th>\n",
       "      <th>rating</th>\n",
       "      <th>review_date</th>\n",
       "    </tr>\n",
       "  </thead>\n",
       "  <tbody>\n",
       "    <tr>\n",
       "      <th>0</th>\n",
       "      <td>Google Play</td>\n",
       "      <td>Very good app for Android phone and me</td>\n",
       "      <td>5</td>\n",
       "      <td>2023-08-27 10:31:00</td>\n",
       "    </tr>\n",
       "    <tr>\n",
       "      <th>1</th>\n",
       "      <td>Google Play</td>\n",
       "      <td>Sl👍👍👍👍</td>\n",
       "      <td>5</td>\n",
       "      <td>2023-08-27 10:28:00</td>\n",
       "    </tr>\n",
       "    <tr>\n",
       "      <th>2</th>\n",
       "      <td>Google Play</td>\n",
       "      <td>Best app</td>\n",
       "      <td>5</td>\n",
       "      <td>2023-08-27 09:47:00</td>\n",
       "    </tr>\n",
       "    <tr>\n",
       "      <th>3</th>\n",
       "      <td>Google Play</td>\n",
       "      <td>Gatiya app</td>\n",
       "      <td>1</td>\n",
       "      <td>2023-08-27 09:13:00</td>\n",
       "    </tr>\n",
       "    <tr>\n",
       "      <th>4</th>\n",
       "      <td>Google Play</td>\n",
       "      <td>Lit bruv</td>\n",
       "      <td>5</td>\n",
       "      <td>2023-08-27 09:00:00</td>\n",
       "    </tr>\n",
       "    <tr>\n",
       "      <th>...</th>\n",
       "      <td>...</td>\n",
       "      <td>...</td>\n",
       "      <td>...</td>\n",
       "      <td>...</td>\n",
       "    </tr>\n",
       "    <tr>\n",
       "      <th>1398</th>\n",
       "      <td>Google Play</td>\n",
       "      <td>Perfect</td>\n",
       "      <td>5</td>\n",
       "      <td>2023-08-13 00:14:00</td>\n",
       "    </tr>\n",
       "    <tr>\n",
       "      <th>1399</th>\n",
       "      <td>Google Play</td>\n",
       "      <td>Let's just waste more of our time so zuck can ...</td>\n",
       "      <td>1</td>\n",
       "      <td>12/8/2023 23:54</td>\n",
       "    </tr>\n",
       "    <tr>\n",
       "      <th>1400</th>\n",
       "      <td>Google Play</td>\n",
       "      <td>Finally, a new and looks like a more relliable...</td>\n",
       "      <td>5</td>\n",
       "      <td>12/8/2023 23:48</td>\n",
       "    </tr>\n",
       "    <tr>\n",
       "      <th>1401</th>\n",
       "      <td>Google Play</td>\n",
       "      <td>Good</td>\n",
       "      <td>5</td>\n",
       "      <td>12/8/2023 23:40</td>\n",
       "    </tr>\n",
       "    <tr>\n",
       "      <th>1402</th>\n",
       "      <td>Google Play</td>\n",
       "      <td>off-brand X</td>\n",
       "      <td>1</td>\n",
       "      <td>12/8/2023 23:33</td>\n",
       "    </tr>\n",
       "  </tbody>\n",
       "</table>\n",
       "<p>1403 rows × 4 columns</p>\n",
       "</div>"
      ],
      "text/plain": [
       "           source                                 review_description  rating  \\\n",
       "0     Google Play             Very good app for Android phone and me       5   \n",
       "1     Google Play                                             Sl👍👍👍👍       5   \n",
       "2     Google Play                                           Best app       5   \n",
       "3     Google Play                                         Gatiya app       1   \n",
       "4     Google Play                                           Lit bruv       5   \n",
       "...           ...                                                ...     ...   \n",
       "1398  Google Play                                            Perfect       5   \n",
       "1399  Google Play  Let's just waste more of our time so zuck can ...       1   \n",
       "1400  Google Play  Finally, a new and looks like a more relliable...       5   \n",
       "1401  Google Play                                               Good       5   \n",
       "1402  Google Play                                        off-brand X       1   \n",
       "\n",
       "              review_date  \n",
       "0     2023-08-27 10:31:00  \n",
       "1     2023-08-27 10:28:00  \n",
       "2     2023-08-27 09:47:00  \n",
       "3     2023-08-27 09:13:00  \n",
       "4     2023-08-27 09:00:00  \n",
       "...                   ...  \n",
       "1398  2023-08-13 00:14:00  \n",
       "1399      12/8/2023 23:54  \n",
       "1400      12/8/2023 23:48  \n",
       "1401      12/8/2023 23:40  \n",
       "1402      12/8/2023 23:33  \n",
       "\n",
       "[1403 rows x 4 columns]"
      ]
     },
     "execution_count": 33,
     "metadata": {},
     "output_type": "execute_result"
    }
   ],
   "source": [
    "# Function to convert specific date format to 'YYYY-MM-DD HH:MM:SS'\n",
    "def convert_date_format(date_str):\n",
    "    if pd.notna(date_str) and pd.to_datetime(date_str, format='%d-%m-%Y %H:%M', errors='coerce') is not pd.NaT:\n",
    "        return pd.to_datetime(date_str, format='%d-%m-%Y %H:%M').strftime('%Y-%m-%d %H:%M:%S')\n",
    "    return date_str\n",
    "\n",
    "# Apply the function to the 'review_date' column for specific date format\n",
    "df['review_date'] = df['review_date'].apply(convert_date_format)\n",
    "\n",
    "df.head(1403)"
   ]
  },
  {
   "cell_type": "code",
   "execution_count": 34,
   "id": "ac3a6927",
   "metadata": {},
   "outputs": [
    {
     "data": {
      "text/html": [
       "<div>\n",
       "<style scoped>\n",
       "    .dataframe tbody tr th:only-of-type {\n",
       "        vertical-align: middle;\n",
       "    }\n",
       "\n",
       "    .dataframe tbody tr th {\n",
       "        vertical-align: top;\n",
       "    }\n",
       "\n",
       "    .dataframe thead th {\n",
       "        text-align: right;\n",
       "    }\n",
       "</style>\n",
       "<table border=\"1\" class=\"dataframe\">\n",
       "  <thead>\n",
       "    <tr style=\"text-align: right;\">\n",
       "      <th></th>\n",
       "      <th>source</th>\n",
       "      <th>review_description</th>\n",
       "      <th>rating</th>\n",
       "      <th>review_date</th>\n",
       "    </tr>\n",
       "  </thead>\n",
       "  <tbody>\n",
       "    <tr>\n",
       "      <th>0</th>\n",
       "      <td>Google Play</td>\n",
       "      <td>Very good app for Android phone and me</td>\n",
       "      <td>5</td>\n",
       "      <td>2023-08-27 10:31:00</td>\n",
       "    </tr>\n",
       "    <tr>\n",
       "      <th>1</th>\n",
       "      <td>Google Play</td>\n",
       "      <td>Sl👍👍👍👍</td>\n",
       "      <td>5</td>\n",
       "      <td>2023-08-27 10:28:00</td>\n",
       "    </tr>\n",
       "    <tr>\n",
       "      <th>2</th>\n",
       "      <td>Google Play</td>\n",
       "      <td>Best app</td>\n",
       "      <td>5</td>\n",
       "      <td>2023-08-27 09:47:00</td>\n",
       "    </tr>\n",
       "    <tr>\n",
       "      <th>3</th>\n",
       "      <td>Google Play</td>\n",
       "      <td>Gatiya app</td>\n",
       "      <td>1</td>\n",
       "      <td>2023-08-27 09:13:00</td>\n",
       "    </tr>\n",
       "    <tr>\n",
       "      <th>4</th>\n",
       "      <td>Google Play</td>\n",
       "      <td>Lit bruv</td>\n",
       "      <td>5</td>\n",
       "      <td>2023-08-27 09:00:00</td>\n",
       "    </tr>\n",
       "    <tr>\n",
       "      <th>...</th>\n",
       "      <td>...</td>\n",
       "      <td>...</td>\n",
       "      <td>...</td>\n",
       "      <td>...</td>\n",
       "    </tr>\n",
       "    <tr>\n",
       "      <th>1398</th>\n",
       "      <td>Google Play</td>\n",
       "      <td>Perfect</td>\n",
       "      <td>5</td>\n",
       "      <td>2023-08-13 00:14:00</td>\n",
       "    </tr>\n",
       "    <tr>\n",
       "      <th>1399</th>\n",
       "      <td>Google Play</td>\n",
       "      <td>Let's just waste more of our time so zuck can ...</td>\n",
       "      <td>1</td>\n",
       "      <td>2023-08-12 23:54:00</td>\n",
       "    </tr>\n",
       "    <tr>\n",
       "      <th>1400</th>\n",
       "      <td>Google Play</td>\n",
       "      <td>Finally, a new and looks like a more relliable...</td>\n",
       "      <td>5</td>\n",
       "      <td>2023-08-12 23:48:00</td>\n",
       "    </tr>\n",
       "    <tr>\n",
       "      <th>1401</th>\n",
       "      <td>Google Play</td>\n",
       "      <td>Good</td>\n",
       "      <td>5</td>\n",
       "      <td>2023-08-12 23:40:00</td>\n",
       "    </tr>\n",
       "    <tr>\n",
       "      <th>1402</th>\n",
       "      <td>Google Play</td>\n",
       "      <td>off-brand X</td>\n",
       "      <td>1</td>\n",
       "      <td>2023-08-12 23:33:00</td>\n",
       "    </tr>\n",
       "  </tbody>\n",
       "</table>\n",
       "<p>1403 rows × 4 columns</p>\n",
       "</div>"
      ],
      "text/plain": [
       "           source                                 review_description  rating  \\\n",
       "0     Google Play             Very good app for Android phone and me       5   \n",
       "1     Google Play                                             Sl👍👍👍👍       5   \n",
       "2     Google Play                                           Best app       5   \n",
       "3     Google Play                                         Gatiya app       1   \n",
       "4     Google Play                                           Lit bruv       5   \n",
       "...           ...                                                ...     ...   \n",
       "1398  Google Play                                            Perfect       5   \n",
       "1399  Google Play  Let's just waste more of our time so zuck can ...       1   \n",
       "1400  Google Play  Finally, a new and looks like a more relliable...       5   \n",
       "1401  Google Play                                               Good       5   \n",
       "1402  Google Play                                        off-brand X       1   \n",
       "\n",
       "              review_date  \n",
       "0     2023-08-27 10:31:00  \n",
       "1     2023-08-27 10:28:00  \n",
       "2     2023-08-27 09:47:00  \n",
       "3     2023-08-27 09:13:00  \n",
       "4     2023-08-27 09:00:00  \n",
       "...                   ...  \n",
       "1398  2023-08-13 00:14:00  \n",
       "1399  2023-08-12 23:54:00  \n",
       "1400  2023-08-12 23:48:00  \n",
       "1401  2023-08-12 23:40:00  \n",
       "1402  2023-08-12 23:33:00  \n",
       "\n",
       "[1403 rows x 4 columns]"
      ]
     },
     "execution_count": 34,
     "metadata": {},
     "output_type": "execute_result"
    }
   ],
   "source": [
    "# Function to convert specific date format to 'YYYY-MM-DD HH:MM:SS'\n",
    "def convert_date_format(date_str):\n",
    "    if pd.notna(date_str) and date_str.count('/') == 2 and date_str.count(':') > 0:\n",
    "        parts = date_str.split(' ')\n",
    "        date_parts = parts[0].split('/')\n",
    "        time_parts = parts[1].split(':')\n",
    "        \n",
    "        # Ensure all parts have enough digits\n",
    "        if len(date_parts[2]) == 4 and len(date_parts[1]) <= 2 and len(date_parts[0]) <= 2 and len(time_parts[0]) <= 2 and len(time_parts[1]) <= 2:\n",
    "            return f\"{date_parts[2]}-{date_parts[1].zfill(2)}-{date_parts[0].zfill(2)} {time_parts[0].zfill(2)}:{time_parts[1].zfill(2)}:00\"\n",
    "    \n",
    "    return date_str\n",
    "\n",
    "# Apply the function to the 'review_date' column for specific date format\n",
    "df['review_date'] = df['review_date'].apply(convert_date_format)\n",
    "\n",
    "df.head(1403)"
   ]
  },
  {
   "cell_type": "code",
   "execution_count": 35,
   "id": "10c23a9f",
   "metadata": {},
   "outputs": [],
   "source": [
    "# Save the updated DataFrame to a new CSV file\n",
    "df.to_csv('updated_project_data.csv', index=False)"
   ]
  },
  {
   "cell_type": "code",
   "execution_count": 36,
   "id": "53c56d1e",
   "metadata": {},
   "outputs": [],
   "source": [
    "Path('Final_data.sqlite').touch()"
   ]
  },
  {
   "cell_type": "code",
   "execution_count": 37,
   "id": "02d64f3e",
   "metadata": {},
   "outputs": [],
   "source": [
    "conn=sqlite3.connect('Final_data.sqlite')\n",
    "c = conn.cursor()"
   ]
  },
  {
   "cell_type": "code",
   "execution_count": 38,
   "id": "336def0c",
   "metadata": {},
   "outputs": [
    {
     "data": {
      "text/plain": [
       "<sqlite3.Cursor at 0x21bd7351e40>"
      ]
     },
     "execution_count": 38,
     "metadata": {},
     "output_type": "execute_result"
    }
   ],
   "source": [
    "c.execute('''CREATE TABLE IF NOT EXISTS thread(id INTEGER PRIMARY KEY AUTOINCREMENT,source text ,review_description text,rating int,review_date date)''')\n",
    " "
   ]
  },
  {
   "cell_type": "code",
   "execution_count": 39,
   "id": "1bdf8fae",
   "metadata": {},
   "outputs": [],
   "source": [
    "thread = pd.read_csv('updated_project_data.csv')"
   ]
  },
  {
   "cell_type": "code",
   "execution_count": 40,
   "id": "f37041c9",
   "metadata": {},
   "outputs": [
    {
     "data": {
      "text/plain": [
       "40435"
      ]
     },
     "execution_count": 40,
     "metadata": {},
     "output_type": "execute_result"
    }
   ],
   "source": [
    "thread.to_sql('thread1',conn,if_exists='append',index=False)"
   ]
  },
  {
   "cell_type": "code",
   "execution_count": 41,
   "id": "de762f16",
   "metadata": {},
   "outputs": [
    {
     "data": {
      "text/plain": [
       "[]"
      ]
     },
     "execution_count": 41,
     "metadata": {},
     "output_type": "execute_result"
    }
   ],
   "source": [
    "c.execute('''select * from thread''').fetchall()"
   ]
  },
  {
   "cell_type": "code",
   "execution_count": 42,
   "id": "96a4fbd0",
   "metadata": {},
   "outputs": [],
   "source": [
    "# Creating database connection\n"
   ]
  },
  {
   "cell_type": "code",
   "execution_count": null,
   "id": "8260a5d1",
   "metadata": {},
   "outputs": [],
   "source": []
  }
 ],
 "metadata": {
  "kernelspec": {
   "display_name": "Python 3 (ipykernel)",
   "language": "python",
   "name": "python3"
  },
  "language_info": {
   "codemirror_mode": {
    "name": "ipython",
    "version": 3
   },
   "file_extension": ".py",
   "mimetype": "text/x-python",
   "name": "python",
   "nbconvert_exporter": "python",
   "pygments_lexer": "ipython3",
   "version": "3.10.11"
  }
 },
 "nbformat": 4,
 "nbformat_minor": 5
}
