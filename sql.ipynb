{
 "cells": [
  {
   "cell_type": "code",
   "execution_count": null,
   "id": "b76545ee",
   "metadata": {},
   "outputs": [],
   "source": [
    "# Create a new table\n",
    "CREATE TABLE reviews (\n",
    "    id INT PRIMARY KEY,\n",
    "    source VARCHAR(30),\n",
    "    review_description TEXT NOT NULL,\n",
    "    rating INT NOT NULL,\n",
    "    review_date DATETIME NOT NULL\n",
    ");\n",
    "\n",
    "# Insert data into the table\n",
    "INSERT INTO reviews (id, source, review_description, rating, review_date)\n",
    "VALUES \n",
    "(0, 'Google Play', 'Very good app for Android phone and me', 5, '2023-08-27 10:31:00'),\n",
    "(1, 'Google Play', 'Sl👍👍👍👍', 5, '2023-08-27 10:28:00'),\n",
    "(2, 'Google Play', 'Best app', 5, '2023-08-27 09:47:00'),\n",
    "(3, 'Google Play', 'Gatiya app', 1, '2023-08-27 09:13:00'),\n",
    "(4, 'Google Play', 'Lit bruv', 5, '2023-08-27 09:00:00'),\n",
    "...\t\n",
    "(1398\tGoogle Play\tPerfect\t5\t2023-08-13 00:14:00)\n",
    "(1399\tGoogle Play\tLet's just waste more of our time so zuck can ...\t1\t2023-08-12 23:54:00)\n",
    "(1400\tGoogle Play\tFinally, a new and looks like a more relliable...\t5\t2023-08-12 23:48:00)\n",
    "(1401\tGoogle Play\tGood\t5\t2023-08-12 23:40:00)\n",
    "(1402\tGoogle Play\toff-brand X\t1\t2023-08-12 23:33:00);\n",
    "\n",
    "# View the table data\n",
    "SELECT *\n",
    "FROM reviews;\n",
    "\n",
    "# List ratings in descending order\n",
    "SELECT rating\n",
    "FROM reviews\n",
    "GROUP BY rating\n",
    "ORDER by count(rating) desc;\n",
    "\n",
    "# Average length of a review for each app store\n",
    "SELECT source\n",
    "FROM reviews\n",
    "GROUP BY rating\n",
    "AVG(LENGTH((rating));"
   ]
  }
 ],
 "metadata": {
  "language_info": {
   "name": "python"
  }
 },
 "nbformat": 4,
 "nbformat_minor": 5
}
